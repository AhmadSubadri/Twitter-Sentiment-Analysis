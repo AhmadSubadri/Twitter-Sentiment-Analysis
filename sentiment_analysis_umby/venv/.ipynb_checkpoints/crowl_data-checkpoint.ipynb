{
 "cells": [
  {
   "cell_type": "code",
   "execution_count": 7,
   "metadata": {},
   "outputs": [
    {
     "name": "stderr",
     "output_type": "stream",
     "text": [
      "[nltk_data] Downloading package stopwords to /home/abad/nltk_data...\n",
      "[nltk_data]   Package stopwords is already up-to-date!\n"
     ]
    }
   ],
   "source": [
    "#Importing Libraries\n",
    "import tweepy\n",
    "from textblob import TextBlob\n",
    "import pandas as pd\n",
    "import numpy as np\n",
    "import matplotlib.pyplot as plt\n",
    "import re\n",
    "import nltk\n",
    "nltk.download('stopwords')\n",
    "from nltk.corpus import stopwords\n",
    "from nltk.stem.porter import PorterStemmer\n",
    "from wordcloud import WordCloud\n",
    "import json\n",
    "from collections import Counter"
   ]
  },
  {
   "cell_type": "code",
   "execution_count": 8,
   "metadata": {},
   "outputs": [],
   "source": [
    "#Authorization and Search tweets\n",
    "#Getting authorization\n",
    "consumer_key = 'n0J0npvqSGd52JzD6JRmggWhL'\n",
    "consumer_key_secret = 'xhw95jEpWBbCDVjz6YBKrX2tD87Le3yJLiGzgD2i0fVJKkBSyS'\n",
    "access_token = '1060481990091145216-PgFzKpMKpHDGsJbVD0V6H03hyEdcku'\n",
    "access_token_secret = 'znSXHPQHlNoY4Aefz13PeM6uiSKkYDLukE146dhQuLEru'\n",
    "auth = tweepy.OAuthHandler(consumer_key, consumer_key_secret)\n",
    "auth.set_access_token(access_token, access_token_secret)\n",
    "api = tweepy.API(auth, wait_on_rate_limit=True)"
   ]
  },
  {
   "cell_type": "code",
   "execution_count": 9,
   "metadata": {},
   "outputs": [],
   "source": [
    "#Defining Search keyword and number of tweets and searching tweets\n",
    "query = 'umby'\n",
    "max_tweets = 500\n",
    "searched_tweets = [status for status in tweepy.Cursor(api.search, q=query).items(max_tweets)]"
   ]
  },
  {
   "cell_type": "code",
   "execution_count": 10,
   "metadata": {},
   "outputs": [],
   "source": [
    "#Sentiment Analysis Report\n",
    "#Finding sentiment analysis (+ve, -ve and neutral)\n",
    "pos = 0\n",
    "neg = 0\n",
    "neu = 0\n",
    "for tweet in searched_tweets:\n",
    "    analysis = TextBlob(tweet.text)\n",
    "    if analysis.sentiment[0]>0.0:\n",
    "       pos = pos +1\n",
    "    elif analysis.sentiment[0]<0.0:\n",
    "       neg = neg + 1\n",
    "    else:\n",
    "       neu = neu + 1"
   ]
  },
  {
   "cell_type": "code",
   "execution_count": 11,
   "metadata": {},
   "outputs": [
    {
     "name": "stdout",
     "output_type": "stream",
     "text": [
      "Sentiment Result\n",
      "Total Tweets =  199 Tweets\n",
      "positive :  53 (26.633165829145728 %)\n",
      "negative :  27 (13.5678391959799 %)\n",
      "netral :  119 (59.79899497487437 %)\n"
     ]
    },
    {
     "data": {
      "image/png": "[encoded data removed]",
      "text/plain": [
       "<Figure size 432x288 with 1 Axes>"
      ]
     },
     "metadata": {},
     "output_type": "display_data"
    }
   ],
   "source": [
    "print(\"Sentiment Result\")\n",
    "print(\"Total Tweets = \", len(searched_tweets),(\"Tweets\"))\n",
    "print(\"positive : \", pos, \"({} %)\".format(pos*100/len(searched_tweets)))\n",
    "print(\"negative : \", neg, \"({} %)\".format(neg*100/len(searched_tweets)))\n",
    "print(\"netral : \", neu, \"({} %)\".format(neu*100/len(searched_tweets)))\n",
    "\n",
    "#Plotting sentiments\n",
    "labels = 'Positive', 'Negative', 'Netral'\n",
    "sizes = [pos, neg, neu]\n",
    "colors = ['gold', 'yellowgreen', 'lightcoral']\n",
    "explode = (0.1, 0.1, 0.1)  # explode 1st slice\n",
    "plt.pie(sizes, explode=explode, labels=labels, colors=colors, autopct='%1.1f%%', shadow=True, startangle=140)\n",
    "plt.savefig('umby.png')\n",
    "plt.legend(loc=\"best\")\n",
    "plt.savefig('umby.png')\n",
    "plt.axis('equal')\n",
    "plt.show()"
   ]
  },
  {
   "cell_type": "code",
   "execution_count": 12,
   "metadata": {},
   "outputs": [],
   "source": [
    "users_locs = [[tweet.text ] for tweet in searched_tweets]"
   ]
  },
  {
   "cell_type": "code",
   "execution_count": 18,
   "metadata": {},
   "outputs": [
    {
     "data": {
      "text/html": [
       "<div>\n",
       "<style scoped>\n",
       "    .dataframe tbody tr th:only-of-type {\n",
       "        vertical-align: middle;\n",
       "    }\n",
       "\n",
       "    .dataframe tbody tr th {\n",
       "        vertical-align: top;\n",
       "    }\n",
       "\n",
       "    .dataframe thead th {\n",
       "        text-align: right;\n",
       "    }\n",
       "</style>\n",
       "<table border=\"1\" class=\"dataframe\">\n",
       "  <thead>\n",
       "    <tr style=\"text-align: right;\">\n",
       "      <th></th>\n",
       "      <th>text</th>\n",
       "    </tr>\n",
       "  </thead>\n",
       "  <tbody>\n",
       "    <tr>\n",
       "      <th>0</th>\n",
       "      <td>Injap Semilunar Aorta: @swantemyid #PSLS #UMBY...</td>\n",
       "    </tr>\n",
       "    <tr>\n",
       "      <th>1</th>\n",
       "      <td>@Nonno_Umby @theprinceofiris https://t.co/BeR1...</td>\n",
       "    </tr>\n",
       "    <tr>\n",
       "      <th>2</th>\n",
       "      <td>@theprinceofiris Mycen (FEG/Echoes SoV)\\nScarl...</td>\n",
       "    </tr>\n",
       "    <tr>\n",
       "      <th>3</th>\n",
       "      <td>Preorder now: @UmbyCo protective #umbrella htt...</td>\n",
       "    </tr>\n",
       "    <tr>\n",
       "      <th>4</th>\n",
       "      <td>Penyakit Inflamasi Pinggul Pelvis / Penyakit I...</td>\n",
       "    </tr>\n",
       "    <tr>\n",
       "      <th>5</th>\n",
       "      <td>@collegemenfess Yakali nder kalo Umy = umi , k...</td>\n",
       "    </tr>\n",
       "    <tr>\n",
       "      <th>6</th>\n",
       "      <td>@ahornyskydeer Hi I'm here happy to get a duo ...</td>\n",
       "    </tr>\n",
       "    <tr>\n",
       "      <th>7</th>\n",
       "      <td>#EltSharingSessions3 \"Autonomous and Life-long...</td>\n",
       "    </tr>\n",
       "    <tr>\n",
       "      <th>8</th>\n",
       "      <td>/It lands directly on the top of the care p̶a̶...</td>\n",
       "    </tr>\n",
       "    <tr>\n",
       "      <th>9</th>\n",
       "      <td>🤢 well sat umby!! https://t.co/O2ePfE11ap</td>\n",
       "    </tr>\n",
       "  </tbody>\n",
       "</table>\n",
       "</div>"
      ],
      "text/plain": [
       "                                                text\n",
       "0  Injap Semilunar Aorta: @swantemyid #PSLS #UMBY...\n",
       "1  @Nonno_Umby @theprinceofiris https://t.co/BeR1...\n",
       "2  @theprinceofiris Mycen (FEG/Echoes SoV)\\nScarl...\n",
       "3  Preorder now: @UmbyCo protective #umbrella htt...\n",
       "4  Penyakit Inflamasi Pinggul Pelvis / Penyakit I...\n",
       "5  @collegemenfess Yakali nder kalo Umy = umi , k...\n",
       "6  @ahornyskydeer Hi I'm here happy to get a duo ...\n",
       "7  #EltSharingSessions3 \"Autonomous and Life-long...\n",
       "8  /It lands directly on the top of the care p̶a̶...\n",
       "9          🤢 well sat umby!! https://t.co/O2ePfE11ap"
      ]
     },
     "execution_count": 18,
     "metadata": {},
     "output_type": "execute_result"
    }
   ],
   "source": [
    "df.head(10)"
   ]
  },
  {
   "cell_type": "code",
   "execution_count": 19,
   "metadata": {},
   "outputs": [],
   "source": [
    "df = pd.DataFrame(data=users_locs, columns=['text'])"
   ]
  },
  {
   "cell_type": "code",
   "execution_count": 20,
   "metadata": {},
   "outputs": [],
   "source": [
    "def clean_tweet(tweet):\n",
    "        # Remove Links, Special Characters etc from tweet\n",
    "        return ' '.join(re.sub(\"(@[A-Za-z0-9]+)|([^0-9A-Za-z \\t]) | (\\w +:\\ / \\ / \\S +)\", \" \", tweet).split())"
   ]
  },
  {
   "cell_type": "code",
   "execution_count": 21,
   "metadata": {},
   "outputs": [],
   "source": [
    "df['text'] = df['text'].apply(clean_tweet)"
   ]
  },
  {
   "cell_type": "code",
   "execution_count": 22,
   "metadata": {},
   "outputs": [
    {
     "name": "stdout",
     "output_type": "stream",
     "text": [
      "None\n"
     ]
    }
   ],
   "source": [
    "df = df.to_csv('mercubuana.csv', index=False)\n",
    "print (df)"
   ]
  },
  {
   "cell_type": "code",
   "execution_count": null,
   "metadata": {},
   "outputs": [],
   "source": []
  }
 ],
 "metadata": {
  "kernelspec": {
   "display_name": "Python 3",
   "language": "python",
   "name": "python3"
  },
  "language_info": {
   "codemirror_mode": {
    "name": "ipython",
    "version": 3
   },
   "file_extension": ".py",
   "mimetype": "text/x-python",
   "name": "python",
   "nbconvert_exporter": "python",
   "pygments_lexer": "ipython3",
   "version": "3.8.5"
  }
 },
 "nbformat": 4,
 "nbformat_minor": 4
}
